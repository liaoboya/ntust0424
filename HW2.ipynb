{
 "cells": [
  {
   "cell_type": "code",
   "execution_count": 2,
   "metadata": {},
   "outputs": [
    {
     "name": "stdout",
     "output_type": "stream",
     "text": [
      "猜猜數字[按q取消]:5\n",
      "猜錯了呦...繼續猜!\n",
      "猜猜數字[按q取消]:q\n"
     ]
    }
   ],
   "source": [
    "while True:\n",
    "    guess = input(\"猜猜數字[按q取消]:\")\n",
    "    if guess == '8':\n",
    "        print(\"恭喜你猜對了!\")\n",
    "        break\n",
    "    elif guess == 'q':\n",
    "        break   \n",
    "    elif guess != '8':\n",
    "        print(\"猜錯了呦...繼續猜!\")  "
   ]
  },
  {
   "cell_type": "code",
   "execution_count": null,
   "metadata": {},
   "outputs": [],
   "source": []
  }
 ],
 "metadata": {
  "kernelspec": {
   "display_name": "Python 3",
   "language": "python",
   "name": "python3"
  },
  "language_info": {
   "codemirror_mode": {
    "name": "ipython",
    "version": 3
   },
   "file_extension": ".py",
   "mimetype": "text/x-python",
   "name": "python",
   "nbconvert_exporter": "python",
   "pygments_lexer": "ipython3",
   "version": "3.7.3"
  }
 },
 "nbformat": 4,
 "nbformat_minor": 2
}
